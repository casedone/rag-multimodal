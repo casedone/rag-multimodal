{
 "cells": [
  {
   "cell_type": "code",
   "execution_count": 1,
   "id": "eebf5c2a",
   "metadata": {},
   "outputs": [
    {
     "name": "stderr",
     "output_type": "stream",
     "text": [
      "2025-08-03 23:08:42,801 - src.milvus_store - INFO - Logging to file: logs/milvus_store.log\n"
     ]
    }
   ],
   "source": [
    "import os, sys\n",
    "sys.path.append(\"..\")\n",
    "\n",
    "from src.milvus_store import MilvusStore\n",
    "from src.config import ConfigLoader"
   ]
  },
  {
   "cell_type": "code",
   "execution_count": 3,
   "id": "006b0190",
   "metadata": {},
   "outputs": [],
   "source": [
    "config = ConfigLoader(\"../config.yaml\")"
   ]
  },
  {
   "cell_type": "code",
   "execution_count": 4,
   "id": "dbf19403",
   "metadata": {},
   "outputs": [
    {
     "name": "stderr",
     "output_type": "stream",
     "text": [
      "2025-08-03 23:08:49,447 - src.milvus_store - INFO - Database 'rag_multimodal' already exists.\n",
      "2025-08-03 23:08:49,564 [DEBUG][_create_connection]: Created new connection using: async-http://localhost:19530 (async_milvus_client.py:599)\n",
      "2025-08-03 23:08:49,578 - src.milvus_store - INFO - Database 'rag_multimodal' already exists.\n",
      "2025-08-03 23:08:49,626 [DEBUG][_create_connection]: Created new connection using: async-http://localhost:19530 (async_milvus_client.py:599)\n"
     ]
    }
   ],
   "source": [
    "config.set(\"database\", \"collection_name\", \"doc_1_db\")\n",
    "\n",
    "uri = config.get(\"database\", \"uri\", default=\"http://localhost:19530\")\n",
    "db_name = config.get(\"database\", \"name\", default=\"rag_multimodal\")\n",
    "collection_name = config.get(\"database\", \"collection_name\", default=\"collection_demo\")\n",
    "embed_model = config.get(\"model\", \"embeddings\", default=\"text-embedding-3-small\")\n",
    "namespace = config.get(\"database\", \"namespace\", default=\"CaseDoneDemo\")\n",
    "\n",
    "\n",
    "vs1 = {\"store\": MilvusStore(\n",
    "            uri=uri,\n",
    "            db_name=db_name,\n",
    "            collection_name=collection_name,\n",
    "            drop_old=False,\n",
    "            namespace=namespace\n",
    "            ),\n",
    "       \"name\": \"retrieve_documents_on_docling\",\n",
    "       \"description\": \"Search and retrieve information from the document collection on a topic of docling\",\n",
    "       \"k\": config.get(\"retrieval\", \"k\", default=2),\n",
    "       \"ranker_weights\": config.get(\"retrieval\", \"weights\", default=[0.6, 0.4])\n",
    "       }\n",
    "\n",
    "\n",
    "config.set(\"database\", \"collection_name\", \"doc_2_db\")\n",
    "\n",
    "uri = config.get(\"database\", \"uri\", default=\"http://localhost:19530\")\n",
    "db_name = config.get(\"database\", \"name\", default=\"rag_multimodal\")\n",
    "collection_name = config.get(\"database\", \"collection_name\", default=\"collection_demo\")\n",
    "embed_model = config.get(\"model\", \"embeddings\", default=\"text-embedding-3-small\")\n",
    "namespace = config.get(\"database\", \"namespace\", default=\"CaseDoneDemo\")\n",
    "\n",
    "\n",
    "vs2 = {\"store\": MilvusStore(\n",
    "            uri=uri,\n",
    "            db_name=db_name,\n",
    "            collection_name=collection_name,\n",
    "            drop_old=False,\n",
    "            namespace=namespace\n",
    "            ),\n",
    "       \"name\": \"retrieve_documents_on_agentic_ai\",\n",
    "       \"description\": \"Search and retrieve information from the document collection on a topic of agentic ai\",\n",
    "       \"k\": config.get(\"retrieval\", \"k\", default=2),\n",
    "       \"ranker_weights\": config.get(\"retrieval\", \"weights\", default=[0.6, 0.4])\n",
    "       }\n",
    "\n",
    "vector_stores = [vs1, vs2]"
   ]
  },
  {
   "cell_type": "code",
   "execution_count": 5,
   "id": "f8400a77",
   "metadata": {},
   "outputs": [],
   "source": [
    "# milvus_store.similarity_search_with_score(question)"
   ]
  },
  {
   "cell_type": "code",
   "execution_count": 8,
   "id": "481cf1bc",
   "metadata": {},
   "outputs": [
    {
     "name": "stderr",
     "output_type": "stream",
     "text": [
      "2025-08-03 23:09:22,753 - src.agent - INFO - Logging to file: logs/agent.log\n"
     ]
    }
   ],
   "source": [
    "from src.agent import AgenticRAG"
   ]
  },
  {
   "cell_type": "code",
   "execution_count": null,
   "id": "0c03e0d1",
   "metadata": {},
   "outputs": [],
   "source": [
    "agent = AgenticRAG(vector_stores=vector_stores)"
   ]
  },
  {
   "cell_type": "code",
   "execution_count": null,
   "id": "beebf4b8",
   "metadata": {},
   "outputs": [],
   "source": [
    "question = \"agentic ai for banks? search with tools\""
   ]
  },
  {
   "cell_type": "code",
   "execution_count": null,
   "id": "0c974afa",
   "metadata": {},
   "outputs": [],
   "source": [
    "agent.run(question)"
   ]
  },
  {
   "cell_type": "code",
   "execution_count": null,
   "id": "625bf775",
   "metadata": {},
   "outputs": [],
   "source": [
    "agent.run(\"I'm Benz. How are you?\")"
   ]
  },
  {
   "cell_type": "code",
   "execution_count": null,
   "id": "44cfab2e",
   "metadata": {},
   "outputs": [],
   "source": [
    "agent.run(\"What's my name?\")"
   ]
  },
  {
   "cell_type": "code",
   "execution_count": null,
   "id": "1912602d",
   "metadata": {},
   "outputs": [],
   "source": [
    "agent.run(\"what can banks with credit scoring benefit from Agentic AI? Use tools.\")"
   ]
  },
  {
   "cell_type": "code",
   "execution_count": null,
   "id": "ba110630",
   "metadata": {},
   "outputs": [],
   "source": [
    "agent.run(\"give me case study of retail bank process\")"
   ]
  },
  {
   "cell_type": "code",
   "execution_count": null,
   "id": "5e07e4ad",
   "metadata": {},
   "outputs": [],
   "source": [
    "agent.run(\"what about docling for agentic?\")"
   ]
  },
  {
   "cell_type": "code",
   "execution_count": null,
   "id": "9159967d",
   "metadata": {},
   "outputs": [],
   "source": [
    "agent.run(\"what did we talk about so far?\")"
   ]
  },
  {
   "cell_type": "code",
   "execution_count": 6,
   "id": "a7ea0371",
   "metadata": {},
   "outputs": [
    {
     "name": "stderr",
     "output_type": "stream",
     "text": [
      "/Users/pisek/miniconda3/envs/rag-multimodal/lib/python3.12/site-packages/tqdm/auto.py:21: TqdmWarning: IProgress not found. Please update jupyter and ipywidgets. See https://ipywidgets.readthedocs.io/en/stable/user_install.html\n",
      "  from .autonotebook import tqdm as notebook_tqdm\n"
     ]
    }
   ],
   "source": [
    "from src.ui import GradioUI"
   ]
  },
  {
   "cell_type": "code",
   "execution_count": 9,
   "id": "fbcb40f8",
   "metadata": {},
   "outputs": [
    {
     "name": "stderr",
     "output_type": "stream",
     "text": [
      "2025-08-03 23:09:25,353 - src.agent - INFO - AgenticRAG initialized with model: gpt-4.1-mini and 2 vector store(s)\n"
     ]
    },
    {
     "name": "stdout",
     "output_type": "stream",
     "text": [
      "* Running on local URL:  http://127.0.0.1:7860\n",
      "* To create a public link, set `share=True` in `launch()`.\n"
     ]
    },
    {
     "data": {
      "text/html": [
       "<div><iframe src=\"http://127.0.0.1:7860/\" width=\"100%\" height=\"500\" allow=\"autoplay; camera; microphone; clipboard-read; clipboard-write;\" frameborder=\"0\" allowfullscreen></iframe></div>"
      ],
      "text/plain": [
       "<IPython.core.display.HTML object>"
      ]
     },
     "metadata": {},
     "output_type": "display_data"
    }
   ],
   "source": [
    "agent = AgenticRAG(vector_stores=vector_stores)\n",
    "ui = GradioUI(agent.graph, agent.get_config())\n",
    "ui.launch()\n"
   ]
  }
 ],
 "metadata": {
  "kernelspec": {
   "display_name": "rag-multimodal",
   "language": "python",
   "name": "python3"
  },
  "language_info": {
   "codemirror_mode": {
    "name": "ipython",
    "version": 3
   },
   "file_extension": ".py",
   "mimetype": "text/x-python",
   "name": "python",
   "nbconvert_exporter": "python",
   "pygments_lexer": "ipython3",
   "version": "3.12.11"
  }
 },
 "nbformat": 4,
 "nbformat_minor": 5
}
